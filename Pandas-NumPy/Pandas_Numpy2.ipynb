{
 "cells": [
  {
   "cell_type": "markdown",
   "metadata": {},
   "source": [
    "Name: Juan Pablo Meza\n",
    "\n",
    "Email: juanpablo.meza604@gmail.com\n",
    "\n",
    "This program reads the titanic.csv data, prints it out as a DataFrame and sorts the data accordingly"
   ]
  },
  {
   "cell_type": "code",
   "execution_count": 1,
   "metadata": {},
   "outputs": [],
   "source": [
    "import pandas as pd\n",
    "import numpy as np"
   ]
  },
  {
   "cell_type": "code",
   "execution_count": 2,
   "metadata": {},
   "outputs": [
    {
     "name": "stdout",
     "output_type": "stream",
     "text": [
      "                                 Name survived     sex      age passengerClass\n",
      "0       Allen, Miss. Elisabeth Walton      yes  female  29.0000            1st\n",
      "1      Allison, Master. Hudson Trevor      yes    male   0.9167            1st\n",
      "2        Allison, Miss. Helen Loraine       no  female   2.0000            1st\n",
      "3     Allison, Mr. Hudson Joshua Crei       no    male  30.0000            1st\n",
      "4     Allison, Mrs. Hudson J C (Bessi       no  female  25.0000            1st\n",
      "...                               ...      ...     ...      ...            ...\n",
      "1304             Zabour, Miss. Hileni       no  female  14.5000            3rd\n",
      "1305            Zabour, Miss. Thamine       no  female      NaN            3rd\n",
      "1306        Zakarian, Mr. Mapriededer       no    male  26.5000            3rd\n",
      "1307              Zakarian, Mr. Ortin       no    male  27.0000            3rd\n",
      "1308               Zimmerman, Mr. Leo       no    male  29.0000            3rd\n",
      "\n",
      "[1309 rows x 5 columns]\n"
     ]
    }
   ],
   "source": [
    "data = pd.read_csv('titanic.csv')\n",
    "df = pd.DataFrame(data)\n",
    "print(df)"
   ]
  },
  {
   "cell_type": "code",
   "execution_count": 3,
   "metadata": {},
   "outputs": [
    {
     "name": "stdout",
     "output_type": "stream",
     "text": [
      "There were 1309 passengers on the Titanic\n"
     ]
    }
   ],
   "source": [
    "#Calculating how many passengers were on the Titanic\n",
    "passengers = df.Name.count()\n",
    "print(\"There were\", passengers, \"passengers on the Titanic\")"
   ]
  },
  {
   "cell_type": "code",
   "execution_count": 4,
   "metadata": {},
   "outputs": [
    {
     "name": "stdout",
     "output_type": "stream",
     "text": [
      "Number of male passengers: 843\n"
     ]
    }
   ],
   "source": [
    "#Number of Male Passengers\n",
    "males = df.loc[df['sex'] == 'male']\n",
    "males_num = males['sex'].count()\n",
    "print(\"Number of male passengers:\",males_num)"
   ]
  },
  {
   "cell_type": "code",
   "execution_count": 5,
   "metadata": {},
   "outputs": [
    {
     "name": "stdout",
     "output_type": "stream",
     "text": [
      "Number of female passengers: 466\n"
     ]
    }
   ],
   "source": [
    "#Number of Female Passengers\n",
    "female = df.loc[df['sex'] == 'female']\n",
    "female_num = female['sex'].count()\n",
    "print(\"Number of female passengers:\", female_num)"
   ]
  },
  {
   "cell_type": "code",
   "execution_count": 6,
   "metadata": {},
   "outputs": [
    {
     "name": "stdout",
     "output_type": "stream",
     "text": [
      "The average age of all passengers was: 29.88\n"
     ]
    }
   ],
   "source": [
    "#Average age of all passengers\n",
    "avg_age = df.age.mean()\n",
    "print(\"The average age of all passengers was:\", round(avg_age, 2))"
   ]
  },
  {
   "cell_type": "code",
   "execution_count": 7,
   "metadata": {},
   "outputs": [
    {
     "name": "stdout",
     "output_type": "stream",
     "text": [
      "Passengers under the age of 21: 249\n"
     ]
    }
   ],
   "source": [
    "#Number of passengers under the age of 21\n",
    "age = df.loc[df['age'] < 21]\n",
    "under_21 = age['age'].count()\n",
    "print(\"Passengers under the age of 21:\", under_21)"
   ]
  },
  {
   "cell_type": "code",
   "execution_count": 8,
   "metadata": {},
   "outputs": [
    {
     "name": "stdout",
     "output_type": "stream",
     "text": [
      "Number of passengers that survived: 500\n",
      "Male survivors: 161\n",
      "Female survivors: 339\n"
     ]
    }
   ],
   "source": [
    "#Number of passengers that survived. Both Male and Female\n",
    "alive = df.loc[df['survived'] == 'yes']\n",
    "alive_count = alive['survived'].count()\n",
    "male_alive = df.loc[(df['survived'] == 'yes') & (df['sex'] == 'male')]\n",
    "male_alive_count = male_alive['survived'].count()\n",
    "female_alive = df.loc[(df['survived'] == 'yes') & (df['sex'] == 'female')]\n",
    "female_alive_count = female_alive['survived'].count()\n",
    "\n",
    "print(\"Number of passengers that survived:\",alive_count)\n",
    "print(\"Male survivors:\", male_alive_count)\n",
    "print(\"Female survivors:\", female_alive_count)"
   ]
  },
  {
   "cell_type": "code",
   "execution_count": 9,
   "metadata": {},
   "outputs": [
    {
     "name": "stdout",
     "output_type": "stream",
     "text": [
      "Number of passengers that died: 809\n",
      "Males deceased: 682\n",
      "Females deceased: 127\n"
     ]
    }
   ],
   "source": [
    "#Number of passengers that died. Both Male and Female\n",
    "dead = df.loc[df['survived'] == 'no']\n",
    "dead_count = dead['survived'].count()\n",
    "male_dead = df.loc[(df['survived'] == 'no') & (df['sex'] == 'male')]\n",
    "male_dead_count = male_dead['survived'].count()\n",
    "female_dead = df.loc[(df['survived'] == 'no') & (df['sex'] == 'female')]\n",
    "female_dead_count = female_dead['survived'].count()\n",
    "\n",
    "print(\"Number of passengers that died:\",dead_count)\n",
    "print(\"Males deceased:\", male_dead_count)\n",
    "print(\"Females deceased:\", female_dead_count)"
   ]
  },
  {
   "cell_type": "code",
   "execution_count": 10,
   "metadata": {},
   "outputs": [
    {
     "name": "stdout",
     "output_type": "stream",
     "text": [
      "The youngest survivor was: Dean, Miss. Elizabeth Gladys M\n",
      "She was: 0.17 years old\n"
     ]
    }
   ],
   "source": [
    "#Youngest Survivor\n",
    "young = df.loc[(df['survived'] == 'yes') & (df['age'])]\n",
    "youngest_age = young['age'].min()\n",
    "youngest_name = df.loc[df['age'].idxmin()]['Name']\n",
    "\n",
    "print(\"The youngest survivor was:\",youngest_name)\n",
    "print(\"She was:\",round(youngest_age, 2),\"years old\")"
   ]
  },
  {
   "cell_type": "code",
   "execution_count": 11,
   "metadata": {},
   "outputs": [
    {
     "name": "stdout",
     "output_type": "stream",
     "text": [
      "The oldest survivor was:  Barkworth, Mr. Algernon Henry W\n",
      "He was: 80.0 years old\n"
     ]
    }
   ],
   "source": [
    "#Oldest Survivor\n",
    "old = df.loc[(df['survived'] == 'yes') & (df['age'])]\n",
    "oldest_age = old['age'].max()\n",
    "oldest_name = df.loc[df['age'].idxmax()]['Name']\n",
    "\n",
    "print(\"The oldest survivor was: \", oldest_name)\n",
    "print(\"He was:\",round(oldest_age, 2),\"years old\")"
   ]
  },
  {
   "cell_type": "code",
   "execution_count": 12,
   "metadata": {},
   "outputs": [
    {
     "name": "stdout",
     "output_type": "stream",
     "text": [
      "List of passengers that came out alive:\n",
      "\n",
      " 0         Allen, Miss. Elisabeth Walton\n",
      "1        Allison, Master. Hudson Trevor\n",
      "5                   Anderson, Mr. Harry\n",
      "6       Andrews, Miss. Kornelia Theodos\n",
      "8       Appleton, Mrs. Edward Dale (Cha\n",
      "                     ...               \n",
      "1261             Turkula, Mrs. (Hedwig)\n",
      "1277               Vartanian, Mr. David\n",
      "1286    Whabee, Mrs. George Joseph (Sha\n",
      "1290    Wilkes, Mrs. James (Ellen Needs\n",
      "1300    Yasbeck, Mrs. Antoni (Selini Al\n",
      "Name: Name, Length: 500, dtype: object\n"
     ]
    }
   ],
   "source": [
    "#List of passengers that came out alive\n",
    "passengers_alive = df.loc[df['survived'] == 'yes']\n",
    "alive_passenger_count = passengers_alive['Name']\n",
    "\n",
    "print(\"List of passengers that came out alive:\")\n",
    "print('\\n', alive_passenger_count)"
   ]
  }
 ],
 "metadata": {
  "kernelspec": {
   "display_name": "Python 3.11.1 64-bit",
   "language": "python",
   "name": "python3"
  },
  "language_info": {
   "codemirror_mode": {
    "name": "ipython",
    "version": 3
   },
   "file_extension": ".py",
   "mimetype": "text/x-python",
   "name": "python",
   "nbconvert_exporter": "python",
   "pygments_lexer": "ipython3",
   "version": "3.11.1"
  },
  "orig_nbformat": 4,
  "vscode": {
   "interpreter": {
    "hash": "aee8b7b246df8f9039afb4144a1f6fd8d2ca17a180786b69acc140d282b71a49"
   }
  }
 },
 "nbformat": 4,
 "nbformat_minor": 2
}
